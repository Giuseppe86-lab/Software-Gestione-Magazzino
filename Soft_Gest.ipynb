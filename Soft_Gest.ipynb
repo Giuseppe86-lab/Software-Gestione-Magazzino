{
  "nbformat": 4,
  "nbformat_minor": 0,
  "metadata": {
    "colab": {
      "provenance": [],
      "mount_file_id": "10Qx5IVWU1bDwA3OP9V3Smb_nOvvrkix3",
      "authorship_tag": "ABX9TyN5dmL07TaWOyY2gp4Mc+iV",
      "include_colab_link": true
    },
    "kernelspec": {
      "name": "python3",
      "display_name": "Python 3"
    },
    "language_info": {
      "name": "python"
    }
  },
  "cells": [
    {
      "cell_type": "markdown",
      "metadata": {
        "id": "view-in-github",
        "colab_type": "text"
      },
      "source": [
        "<a href=\"https://colab.research.google.com/github/Giuseppe86-lab/Software-Gestione-Magazzino/blob/main/Soft_Gest.ipynb\" target=\"_parent\"><img src=\"https://colab.research.google.com/assets/colab-badge.svg\" alt=\"Open In Colab\"/></a>"
      ]
    },
    {
      "cell_type": "code",
      "execution_count": 8,
      "metadata": {
        "colab": {
          "base_uri": "https://localhost:8080/"
        },
        "id": "X9mXK77yV-b2",
        "outputId": "563d6ac8-c374-444b-da76-cc323aaeeaf3"
      },
      "outputs": [
        {
          "output_type": "stream",
          "name": "stdout",
          "text": [
            "\n",
            "Inserisci un comando: aggiungi\n",
            "Nome del prodotto: tofu\n",
            "Quantità: 10\n",
            "Prezzo di acquisto: 2.20\n",
            "Prezzo di vendita: 4.19\n",
            "AGGIUNTO: 10 X tofu\n",
            "\n",
            "Inserisci un comando: aggiungi\n",
            "Nome del prodotto: seitan\n",
            "Quantità: 5\n",
            "Prezzo di acquisto: 3\n",
            "Prezzo di vendita: 5.49\n",
            "AGGIUNTO: 5 X seitan\n",
            "\n",
            "Inserisci un comando: aggiungi\n",
            "Nome del prodotto: latte di soia\n",
            "Quantità: 5\n",
            "AGGIUNTO: 5 X latte di soia\n",
            "\n",
            "Inserisci un comando: chiudi\n",
            "Bye bye\n",
            "\n"
          ]
        }
      ],
      "source": [
        "import json\n",
        "import os\n",
        "\n",
        "class Wms():\n",
        "  def __init__(self, _inventory):\n",
        "    self._inventory = _inventory\n",
        "\n",
        "  def select_new_operation(self, AVEILABLE_COMMAND):\n",
        "    try:\n",
        "      command = input(\"\\nInserisci un comando: \")\n",
        "      assert(command in AVEILABLE_COMMAND), 'Comando non valido'\n",
        "      return command\n",
        "    except AssertionError as e:\n",
        "      print(e)\n",
        "      self.help()\n",
        "\n",
        "  def add_product(self):\n",
        "    product = input('Nome del prodotto: ')\n",
        "    if product.lower() in self._inventory['Prodotti'].keys():\n",
        "      try:\n",
        "        amount = int(input('Quantità: '))\n",
        "        self._inventory['Prodotti'][product.lower()]['Quantità'] += amount\n",
        "        print(f\"AGGIUNTO: {amount} X {product.lower()}\")\n",
        "      except ValueError:\n",
        "        print(\"Impossibile aggiungere il prodotto: la quantità dev'essere\"\n",
        "              \"un numero intero\")\n",
        "\n",
        "    else:\n",
        "      self._inventory['Prodotti'][product.lower()] = {}\n",
        "      try:\n",
        "        self._inventory['Prodotti'][product.lower()]['Quantità']=int(input('Quantità: '))\n",
        "        self._inventory['Prodotti'][product.lower()]['Prezzo di acquisto']=float(input('Prezzo di acquisto: '))\n",
        "        self._inventory['Prodotti'][product.lower()]['Prezzo di vendita']=float(input('Prezzo di vendita: '))\n",
        "        print(f\"AGGIUNTO: {self._inventory['Prodotti'][product.lower()]['Quantità']} X {product.lower()}\")\n",
        "      except ValueError:\n",
        "        print(\"Impossibile aggiungere il prodotto: La quantità dev'essere\"\n",
        "              \"un numero intero, mentre i prezzi dei float\")\n",
        "\n",
        "\n",
        "\n",
        "  def help(self):\n",
        "\n",
        "    return print(\"I comandi disponibili sono i seguenti:\\n\"\n",
        "    \"aggiungi: aggiungi un prodotto al magazzino\\n\"\n",
        "    \"elenca: elenca i prodotti in magazzino\\n\"\n",
        "    \"vendita: registra una vendita effettuata\\n\"\n",
        "    \"profitti: mostra i profitti totali\\n\"\n",
        "    \"aiuto: mostra i possibili comandi\\n\"\n",
        "    \"chiudi: esci dal programma\\n\")\n",
        "\n",
        "  def close(self):\n",
        "    with open(\"inventory_veg_shop.json\", 'w', encoding=\"utf-8\") as json_file:\n",
        "      json.dump(self._inventory, json_file, ensure_ascii=False, indent = 6)\n",
        "    print(\"Bye bye\\n\")\n",
        "\n",
        "\n",
        "def load_inventory():\n",
        "  new_folder = \"/content/drive/MyDrive/Colab Notebooks\"\n",
        "  os.chdir(new_folder)\n",
        "  try:\n",
        "    with open(\"inventory_veg_shop.json\", encoding=\"utf-8\") as json_file:\n",
        "      inventory = json.load(json_file)\n",
        "\n",
        "  except FileNotFoundError:\n",
        "    inventory = {\"Prodotti\":{},\n",
        "               \"Lordo\": 0, \"Netto\": 0}\n",
        "\n",
        "  return inventory\n",
        "\n",
        "AVEILABLE_COMMAND = ['aggiungi', 'elenca', 'vendita', 'profitti', 'aiuto', 'chiudi']\n",
        "\n",
        "\n",
        "opened_inventory = load_inventory()\n",
        "my_inventory = Wms(opened_inventory)\n",
        "\n",
        "closure = False\n",
        "\n",
        "while not closure:\n",
        "  command = my_inventory.select_new_operation(AVEILABLE_COMMAND)\n",
        "\n",
        "  if command == 'aiuto':\n",
        "    my_inventory.help()\n",
        "\n",
        "  if command == 'aggiungi':\n",
        "    my_inventory.add_product()\n",
        "\n",
        "\n",
        "  if command == 'chiudi':\n",
        "    my_inventory.close()\n",
        "    closure = True\n",
        "\n"
      ]
    },
    {
      "cell_type": "code",
      "source": [],
      "metadata": {
        "id": "9Ll6yw_KZgMP"
      },
      "execution_count": null,
      "outputs": []
    }
  ]
}