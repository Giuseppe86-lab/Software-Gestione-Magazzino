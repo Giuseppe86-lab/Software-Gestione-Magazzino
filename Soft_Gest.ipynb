{
  "nbformat": 4,
  "nbformat_minor": 0,
  "metadata": {
    "colab": {
      "provenance": [],
      "mount_file_id": "10Qx5IVWU1bDwA3OP9V3Smb_nOvvrkix3",
      "authorship_tag": "ABX9TyM9DffdMYfj00YeNi6WP48X",
      "include_colab_link": true
    },
    "kernelspec": {
      "name": "python3",
      "display_name": "Python 3"
    },
    "language_info": {
      "name": "python"
    }
  },
  "cells": [
    {
      "cell_type": "markdown",
      "metadata": {
        "id": "view-in-github",
        "colab_type": "text"
      },
      "source": [
        "<a href=\"https://colab.research.google.com/github/Giuseppe86-lab/Software-Gestione-Magazzino/blob/main/Soft_Gest.ipynb\" target=\"_parent\"><img src=\"https://colab.research.google.com/assets/colab-badge.svg\" alt=\"Open In Colab\"/></a>"
      ]
    },
    {
      "cell_type": "code",
      "source": [
        "import os\n",
        "\n",
        "# Mostra la directory corrente\n",
        "print(\"Directory corrente:\", os.getcwd())\n",
        "\n",
        "# Cambia la directory corrente\n",
        "nuova_cartella = \"/content/drive/MyDrive/Colab Notebooks\"\n",
        "os.chdir(nuova_cartella)\n",
        "\n",
        "# Conferma il cambio\n",
        "print(\"Nuova directory:\", os.getcwd())"
      ],
      "metadata": {
        "colab": {
          "base_uri": "https://localhost:8080/"
        },
        "id": "M6zMedsIqze2",
        "outputId": "ab250f2d-fcd0-47da-cdf9-8c171750fcaa"
      },
      "execution_count": 37,
      "outputs": [
        {
          "output_type": "stream",
          "name": "stdout",
          "text": [
            "Directory corrente: /content\n",
            "Nuova directory: /content/drive/MyDrive/Colab Notebooks\n"
          ]
        }
      ]
    },
    {
      "cell_type": "code",
      "execution_count": 42,
      "metadata": {
        "colab": {
          "base_uri": "https://localhost:8080/"
        },
        "id": "X9mXK77yV-b2",
        "outputId": "47d44f75-6658-4466-9a04-808bb7263960"
      },
      "outputs": [
        {
          "output_type": "stream",
          "name": "stdout",
          "text": [
            "\n",
            "Inserisci un comando: aggiungi\n",
            "Nome del prodotto: tofu\n",
            "Quantità: 3\n",
            "AGGIUNTO: 3 X tofu\n",
            "\n",
            "Inserisci un comando: chiudi\n",
            "Bye bye\n",
            "\n"
          ]
        }
      ],
      "source": [
        "import json\n",
        "\n",
        "class Sw_Management(_inventory):\n",
        "  def __init__(self, _inventory):\n",
        "    self._inventory = _inventory\n",
        "\n",
        "  def select_new_operation(self, AVEILABLE_COMMAND):\n",
        "    try:\n",
        "      command = input(\"\\nInserisci un comando: \")\n",
        "      assert(command in AVEILABLE_COMMAND), 'Comando non valido'\n",
        "      return command\n",
        "    except AssertionError as e:\n",
        "      print(e)\n",
        "      help()\n",
        "\n",
        "  def add_product(self):\n",
        "    product = input('Nome del prodotto: ')\n",
        "    if product.lower() in av_products.keys():\n",
        "      try:\n",
        "        amount = int(input('Quantità: '))\n",
        "        av_products[product.lower()][0] += amount\n",
        "        print(f\"AGGIUNTO: {amount} X {product.lower()}\")\n",
        "      except ValueError:\n",
        "        print(\"Impossibile aggiungere il prodotto: la quantità dev'essere\"\n",
        "              \"un numero intero\")\n",
        "\n",
        "    else:\n",
        "      av_products[product.lower()] = []\n",
        "      try:\n",
        "        av_products[product.lower()].append(int(input('Quantità: ')))\n",
        "        av_products[product.lower()].append(float(input('Prezzo di acquisto: ')))\n",
        "        av_products[product.lower()].append(float(input('Prezzo di vendita: ')))\n",
        "        print(f\"AGGIUNTO: {av_products[product.lower()][0]} X {product.lower()}\")\n",
        "      except ValueError:\n",
        "        print(\"Impossibile aggiungere il prodotto: La quantità dev'essere\"\n",
        "              \"un numero intero, mentre i prezzi dei float\")\n",
        "\n",
        "\n",
        "\n",
        "  def help():\n",
        "\n",
        "    return print(\"I comandi disponibili sono i seguenti:\\n\"\n",
        "    \"aggiungi: aggiungi un prodotto al magazzino\\n\"\n",
        "    \"elenca: elenca i prodotti in magazzino\\n\"\n",
        "    \"vendita: registra una vendita effettuata\\n\"\n",
        "    \"profitti: mostra i profitti totali\\n\"\n",
        "    \"aiuto: mostra i possibili comandi\\n\"\n",
        "    \"chiudi: esci dal programma\\n\")\n",
        "\n",
        "  def close(self):\n",
        "    with open(\"inventory_veg_shop.json\", 'w') as json_file:\n",
        "      json.dump(inventory, json_file, indent = 6)\n",
        "    print(\"Bye bye\\n\")\n",
        "\n",
        "\n",
        "def load_inventory():\n",
        "  try:\n",
        "    with open(\"inventory_veg_shop.json\") as json_file:\n",
        "      inventory = json.load(json_file)\n",
        "\n",
        "  except FileNotFoundError:\n",
        "    inventory = {\"Prodotti\":{},\n",
        "               \"Lordo\": 0, \"Netto\": 0}\n",
        "\n",
        "  return inventory\n",
        "\n",
        "AVEILABLE_COMMAND = ['aggiungi', 'elenca', 'vendita', 'profitti', 'aiuto', 'chiudi']\n",
        "\n",
        "\n",
        "opened_inventory = load_inventory\n",
        "my_inventory = Sw_Management(opened_inventory)\n",
        "\n",
        "closure = False\n",
        "\n",
        "while not closure:\n",
        "  command = select_new_operation(AVEILABLE_COMMAND)\n",
        "\n",
        "  if command == 'aiuto':\n",
        "    help()\n",
        "\n",
        "  if command == 'aggiungi':\n",
        "    add_product(inventory[\"Prodotti\"])\n",
        "\n",
        "\n",
        "  if command == 'chiudi':\n",
        "    close(inventory)\n",
        "    closure = True\n",
        "\n"
      ]
    },
    {
      "cell_type": "code",
      "source": [],
      "metadata": {
        "id": "9Ll6yw_KZgMP"
      },
      "execution_count": null,
      "outputs": []
    }
  ]
}